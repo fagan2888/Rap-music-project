{
 "cells": [
  {
   "cell_type": "markdown",
   "metadata": {},
   "source": [
    "# Python Data Science Handbook Notes "
   ]
  },
  {
   "cell_type": "markdown",
   "metadata": {},
   "source": [
    "This document contains notes I have taken on *Python Data Science Handbook*. I hope someone finds this helpful. \n",
    "\n",
    "Book citation: *Python Data Science Handbook* by Jake VanderPlas (O'Reilly). Copyright 2017 Jake VanderPlas, 978-1-491-91295-8."
   ]
  },
  {
   "cell_type": "markdown",
   "metadata": {},
   "source": [
    "# Preface"
   ]
  },
  {
   "cell_type": "markdown",
   "metadata": {},
   "source": [
    "Data science comprises three distinct and overlapping areas: \n",
    "1. **Statistics**\n",
    "2. **Computer science** - used for the design and use of algorithms to efficiently store, process, and visualize data\n",
    "3. **Domain expertise** - necessary to formulate the right question and to put their answers in context\n",
    "\n",
    "Important libraries: \n",
    "1. NumPy: manipulation of homogenous data\n",
    "2. Pandas: manipulation of heterogenous data\n",
    "3. SciPy: common scientific computing tasks\n",
    "4. Matplotlib: visualizations\n",
    "5. Scikit-Learn: machine learning"
   ]
  },
  {
   "cell_type": "markdown",
   "metadata": {},
   "source": [
    "# Chapter 1: IPython: Beyond Normal Python"
   ]
  },
  {
   "cell_type": "markdown",
   "metadata": {},
   "source": [
    "Need help: `?` for docmentation, `??` for source code, tab key for autocompletion\n",
    "\n",
    "Every python object contains a docstring which contains a concise summary of the object and how to use it. Python has a built in ```help()``` function that prints the docstring. This method even works for functions or objects you create yourself. To create a docstring for our function we place a string literal in the first line.\n",
    "\n",
    "Shortcuts\n",
    "- `Ctrl-a` to move cursor to the begining of the line. \n",
    "- `Ctrl-e` to move cursor to the end of the line. \n",
    "- `Ctrl-k` to cut rexr from cursor to the end of the line. \n",
    "- `Ctrl-p` to access previous command in history.\n",
    "- `Ctrl-n` to access next demand in history. \n",
    "    - Note: you can use Ctrl-p/Ctrl-n or the up/down arrow keys to search through history, but only by matching characters - at the begining of the line. \n",
    "- `Ctrl-l` to clear terminal screen. \n",
    "- `Ctrl-c` to interrupt current Python command. "
   ]
  },
  {
   "cell_type": "code",
   "execution_count": 8,
   "metadata": {},
   "outputs": [
    {
     "name": "stdout",
     "output_type": "stream",
     "text": [
      "Help on built-in function len in module builtins:\n",
      "\n",
      "len(obj, /)\n",
      "    Return the number of items in a container.\n",
      "\n"
     ]
    }
   ],
   "source": [
    "help(len)"
   ]
  },
  {
   "cell_type": "code",
   "execution_count": 9,
   "metadata": {},
   "outputs": [],
   "source": [
    "len?"
   ]
  },
  {
   "cell_type": "code",
   "execution_count": 10,
   "metadata": {},
   "outputs": [],
   "source": [
    "def square(a): \n",
    "    \"\"\"Return the square of a.\"\"\"\n",
    "    return a**2"
   ]
  },
  {
   "cell_type": "markdown",
   "metadata": {},
   "source": [
    "Because Python is so readable you can usually gain another level of insight by reading the source code of the object you're curious about. `??` can give a quick insight into the under the hood details. Sometimes you will notice that `??` does not display source code. This is generally because the object in question is not implemented in Python, but in C or some other language. If this is the case `??` will give you the same output as `?`. "
   ]
  },
  {
   "cell_type": "code",
   "execution_count": 11,
   "metadata": {},
   "outputs": [],
   "source": [
    "square??"
   ]
  },
  {
   "cell_type": "markdown",
   "metadata": {},
   "source": [
    "Every Python object has various attribues and methods associated with it. Python has a built in `dir` function that returns a list of these, but the tab completion interface is much easier to use in practice. To see a list of all available attributes of an object, you can type the name of the object followed by a `.` and then the Tab key. If there is only a single option, pressing the Tab key will complete the line for you. Tab completion is also useful when importing objects from packages. "
   ]
  },
  {
   "cell_type": "code",
   "execution_count": 16,
   "metadata": {},
   "outputs": [],
   "source": [
    "#wildcard matching\n",
    "*Warning? #returns a list of every object in the namespace that ends with Warning"
   ]
  },
  {
   "cell_type": "code",
   "execution_count": 17,
   "metadata": {},
   "outputs": [
    {
     "ename": "SyntaxError",
     "evalue": "invalid syntax (<ipython-input-17-31600e19d448>, line 1)",
     "output_type": "error",
     "traceback": [
      "\u001b[0;36m  File \u001b[0;32m\"<ipython-input-17-31600e19d448>\"\u001b[0;36m, line \u001b[0;32m1\u001b[0m\n\u001b[0;31m    str.*find*? #retruns a list of every string method that contains the word find somewhere in its name.\u001b[0m\n\u001b[0m        ^\u001b[0m\n\u001b[0;31mSyntaxError\u001b[0m\u001b[0;31m:\u001b[0m invalid syntax\n"
     ]
    }
   ],
   "source": [
    "str.*find*? #retruns a list of every string method that contains the word find somewhere in its name. "
   ]
  },
  {
   "cell_type": "markdown",
   "metadata": {},
   "source": [
    "Magic commands are prefixed by `%`. These magic commands are designed to succintly solve various common problems in standard data analysis. There are two kinds of magic commands: line magics (denoted by `%` and operate on a single line) and cell magics (denoted by `%%` and operate on multiple lines of input)\n",
    "\n",
    "`%paste` pastes code into the cell and does so without indentation errors. This way you can copy code from online sources and paste with no troubles. \n",
    "\n",
    "`%cpaste` opens an interactive multiline prompt in which you can paste one or more chunks of code to be executed in a batch. \n",
    "\n",
    "`%run` is useful when you have created a myscript.py file you can execute this on Jupyter `%run myscript.py`. Note that any functions defined within the .py file are now available for use. \n",
    "\n",
    "`%timeit` determines the execution time of the single line python statement that follows it\n",
    "\n",
    "`%magic` to access a general description of available magic functions \n",
    "\n",
    "`%lsmagic` to list all available magic functions"
   ]
  },
  {
   "cell_type": "code",
   "execution_count": 18,
   "metadata": {},
   "outputs": [
    {
     "name": "stdout",
     "output_type": "stream",
     "text": [
      "31.6 µs ± 756 ns per loop (mean ± std. dev. of 7 runs, 10000 loops each)\n"
     ]
    }
   ],
   "source": [
    "%timeit L = [n**2 for n in range(100)]"
   ]
  },
  {
   "cell_type": "markdown",
   "metadata": {},
   "source": [
    "Note that list comprehensions are faster than the equivalent for loop construction. "
   ]
  },
  {
   "cell_type": "markdown",
   "metadata": {},
   "source": [
    "The `In[]` object is a list which keeps track of the commands in order. The `Out[]` object is not a list but a dictionary mapping input numbers to their outputs. \n",
    "\n",
    "Note not all operations have outputs. E.g., import statments and print statements don't affect the output (yes print statments!). This makes sense if you think about how print is a function that returns `None`; for brevity any command that returns `None` is not added to Out. Where this can be useful is if you want to interact with past results. This can be very handy if you execute a very expensive computation and want to reuse the result. "
   ]
  },
  {
   "cell_type": "code",
   "execution_count": 19,
   "metadata": {},
   "outputs": [
    {
     "data": {
      "text/plain": [
       "0.9092974268256817"
      ]
     },
     "execution_count": 19,
     "metadata": {},
     "output_type": "execute_result"
    }
   ],
   "source": [
    "import math\n",
    "math.sin(2)"
   ]
  },
  {
   "cell_type": "code",
   "execution_count": 20,
   "metadata": {},
   "outputs": [
    {
     "data": {
      "text/plain": [
       "-0.4161468365471424"
      ]
     },
     "execution_count": 20,
     "metadata": {},
     "output_type": "execute_result"
    }
   ],
   "source": [
    "math.cos(2)"
   ]
  },
  {
   "cell_type": "code",
   "execution_count": 21,
   "metadata": {},
   "outputs": [
    {
     "data": {
      "text/plain": [
       "-0.37840124765396416"
      ]
     },
     "execution_count": 21,
     "metadata": {},
     "output_type": "execute_result"
    }
   ],
   "source": [
    "Out[19]*Out[20]"
   ]
  },
  {
   "cell_type": "markdown",
   "metadata": {},
   "source": [
    "Underscore shortcuts and previous outputs: \n",
    "the variable _ a single underscore _ is kept updated with the previous output. You can use a double underscore to access the second-to-last output and a triple underscore to access the third-to-last output. It stops there! \n",
    "\n",
    "A shorthand for `Out[X]` is `_X` (i.e., a single underscore followed by the line number)"
   ]
  },
  {
   "cell_type": "code",
   "execution_count": 22,
   "metadata": {},
   "outputs": [
    {
     "name": "stdout",
     "output_type": "stream",
     "text": [
      "-0.37840124765396416\n"
     ]
    }
   ],
   "source": [
    "print(_)"
   ]
  },
  {
   "cell_type": "code",
   "execution_count": 23,
   "metadata": {},
   "outputs": [
    {
     "data": {
      "text/plain": [
       "0.9092974268256817"
      ]
     },
     "execution_count": 23,
     "metadata": {},
     "output_type": "execute_result"
    }
   ],
   "source": [
    "_19"
   ]
  },
  {
   "cell_type": "markdown",
   "metadata": {},
   "source": [
    "Supressing the output of a command: the easiest way is to add a semicolon `;` to the end of the line. Note that when you do this the result is computed silently, and the result is neither displayed on the screen or stored in the Out dictionary.  "
   ]
  },
  {
   "cell_type": "markdown",
   "metadata": {},
   "source": [
    "IPython gives you syntax for executing shell commands directly from within the IPython terminal. Anything appearing after `!` on a line will be executed not by the python kernal, but by the system command line. The shell is a way to interact textually with your computer. Shell offers much more control of advanced tasks. You can use any command that works at the command line in IPython by prefixing it with the `!` character. "
   ]
  },
  {
   "cell_type": "code",
   "execution_count": 24,
   "metadata": {},
   "outputs": [
    {
     "name": "stdout",
     "output_type": "stream",
     "text": [
      "Coding comparisons .ipynb\r\n",
      "Cogs 164 project.ipynb\r\n",
      "\u001b[34mDrawing to Learn Science\u001b[m\u001b[m\r\n",
      "\u001b[34mHate-Crimes-in-SD\u001b[m\u001b[m\r\n",
      "Python Data Science Handbook Notes .ipynb\r\n",
      "\u001b[34mSD_collisions\u001b[m\u001b[m\r\n",
      "\u001b[34mUnique-words\u001b[m\u001b[m\r\n",
      "\u001b[34mgroup044\u001b[m\u001b[m\r\n",
      "sarah_functions.py\r\n"
     ]
    }
   ],
   "source": [
    "!ls"
   ]
  },
  {
   "cell_type": "code",
   "execution_count": 25,
   "metadata": {},
   "outputs": [
    {
     "name": "stdout",
     "output_type": "stream",
     "text": [
      "/Users/sarahamiraslani/Documents/GitHub\r\n"
     ]
    }
   ],
   "source": [
    "!pwd"
   ]
  },
  {
   "cell_type": "markdown",
   "metadata": {},
   "source": [
    "Shell commands can also be made to interact with the IPython namespace. For example, you can save the output of any shell command to a Python list using the assignment operator. Note that these results are not returned as lists, but as a special shell return type defined in Ipython. This looks and acts a lot like a Python list, but has additional functionality"
   ]
  },
  {
   "cell_type": "code",
   "execution_count": 26,
   "metadata": {},
   "outputs": [],
   "source": [
    "directory = !pwd"
   ]
  },
  {
   "cell_type": "code",
   "execution_count": 27,
   "metadata": {},
   "outputs": [
    {
     "name": "stdout",
     "output_type": "stream",
     "text": [
      "['/Users/sarahamiraslani/Documents/GitHub']\n"
     ]
    }
   ],
   "source": [
    "print(directory)"
   ]
  },
  {
   "cell_type": "code",
   "execution_count": 28,
   "metadata": {},
   "outputs": [
    {
     "data": {
      "text/plain": [
       "IPython.utils.text.SList"
      ]
     },
     "execution_count": 28,
     "metadata": {},
     "output_type": "execute_result"
    }
   ],
   "source": [
    "type(directory)"
   ]
  },
  {
   "cell_type": "markdown",
   "metadata": {},
   "source": [
    "#### Profiling and and Timing Code"
   ]
  },
  {
   "cell_type": "markdown",
   "metadata": {},
   "source": [
    "In the process of developing code and creating data processing pipelines, there are trade-offs you can make between various implementations. Early in developing your algorithm, it can be counterproductive to worry about these things. \"premature optimization is the root of all evil\". But once you have your code working, it can be useful to dig into its efficiency a bit. \n",
    "\n",
    "`%time` to time the execution of a single statement\n",
    "`%%timeit` to time the repeated execution of snippets of code. \n",
    "`%timeit` to time repeated execution of a single statement for more accuracy\n",
    "`%prun` to run the code with the profiler\n",
    "`%lprun` to run the code with the line-by-line profiler\n",
    "`%memit` to measure the memory use of a single statement\n",
    "`%mprun` to run code with the line-by-line memory profiler\n",
    "Note: the last four commands are not bundled with Ipython, you need to install the `line_profiler` and `memory_profiler` extensions"
   ]
  },
  {
   "cell_type": "code",
   "execution_count": 29,
   "metadata": {},
   "outputs": [
    {
     "name": "stdout",
     "output_type": "stream",
     "text": [
      "975 ns ± 25.7 ns per loop (mean ± std. dev. of 7 runs, 1000000 loops each)\n"
     ]
    }
   ],
   "source": [
    "%timeit sum(range(100))"
   ]
  },
  {
   "cell_type": "code",
   "execution_count": 30,
   "metadata": {},
   "outputs": [
    {
     "name": "stdout",
     "output_type": "stream",
     "text": [
      "3.65 ms ± 93.9 µs per loop (mean ± std. dev. of 7 runs, 100 loops each)\n"
     ]
    }
   ],
   "source": [
    "%%timeit\n",
    "total=0\n",
    "\n",
    "for i in range(100): \n",
    "    for j in range(100): \n",
    "        total += i *(-1)**j"
   ]
  },
  {
   "cell_type": "markdown",
   "metadata": {},
   "source": [
    "# Chapter 2: Introduction to NumPy"
   ]
  },
  {
   "cell_type": "markdown",
   "metadata": {},
   "source": [
    "It will help us to think of all data as arrays of numbers. No matter what the data are, the first step in making them analyzable will be to transform them into arrays of numbers. In some ways, NumPy arrays are like Python's built-in list type, but NumPy arrays provide much more efficient storage and data operations as the arrays grow larger in size. Numpy arrays form the core of nearly the entire ecosystem of data science tools in Python.  "
   ]
  },
  {
   "cell_type": "code",
   "execution_count": 31,
   "metadata": {},
   "outputs": [],
   "source": [
    "import numpy as np"
   ]
  },
  {
   "cell_type": "markdown",
   "metadata": {},
   "source": [
    "Effective data-driven science and computation requires understanding how data is stored and manipulated.\n",
    "\n",
    "The standard Python implementation is written in C. This means that every Python object is a cleverly disguised C structure. \n",
    "\n",
    "**A python list is more than just a list**\n",
    "- because of python's dynamic typing we can create heterogenous lists. This flexibility comes at a cost: to allow these flexible types, each item in the list must contain its own type info, reference count, and other information – that is, each item is a complete Python object. In the special case that all variables are of the same type, much of this information is redundant: it can be much more efficient to store data in a fixed-type array. \n",
    "\n",
    "At the implementation level, the array contains a single pointer to one contiguous block of data. The Python list on the other hand contains a pointer to a block of pointers, each of which in turn points to a full python object like the Python integer we saw earlier. Again the advantage of a list is flexibility: because each list element is a full structure containing both data and type information, the list can be filled witth data of any desired type. Fixed-type NumPy-style arrays lack this flexibility, but are much more efficient for sotring and manipulating data. \n",
    "\n",
    "**Fixed-Type Arrays in Python**\n",
    "Python offers several different options for storing data in efficient, fixed-type data buffers. The built in `array` module can be used to create dense arrays of a uniform type. "
   ]
  },
  {
   "cell_type": "code",
   "execution_count": 32,
   "metadata": {},
   "outputs": [
    {
     "data": {
      "text/plain": [
       "array('i', [0, 1, 2, 3, 4, 5, 6, 7, 8, 9])"
      ]
     },
     "execution_count": 32,
     "metadata": {},
     "output_type": "execute_result"
    }
   ],
   "source": [
    "import array\n",
    "\n",
    "L = list(range(10))\n",
    "A = array.array('i',L)\n",
    "A"
   ]
  },
  {
   "cell_type": "markdown",
   "metadata": {},
   "source": [
    "Here `'i'` is a type code indicating the contents are integers. \n",
    "\n",
    "However, the `ndarray` object of the NumPy package is much more useful. Python's `array` object provides an efficient way to store array-based data, but NumPy adds to this efficient operations on that data. Remember that unlike Python lists, NumPy is constrained to arrays that all contain the same type. If the types do not match, NumPy will upcast if possible. If we want to explicitly set the data type of the resulting array, we can use the `dtype` keyword. Finally unlike Python lists, NumPy arrays can be explicitly multidimensional"
   ]
  },
  {
   "cell_type": "code",
   "execution_count": 33,
   "metadata": {},
   "outputs": [
    {
     "data": {
      "text/plain": [
       "array([1, 4, 2, 5, 3])"
      ]
     },
     "execution_count": 33,
     "metadata": {},
     "output_type": "execute_result"
    }
   ],
   "source": [
    "#integer array\n",
    "np.array([1,4,2,5,3])"
   ]
  },
  {
   "cell_type": "code",
   "execution_count": 34,
   "metadata": {},
   "outputs": [
    {
     "data": {
      "text/plain": [
       "array([3.14, 4.  , 2.  , 3.  ])"
      ]
     },
     "execution_count": 34,
     "metadata": {},
     "output_type": "execute_result"
    }
   ],
   "source": [
    "#Numpy will upcast if types don't match\n",
    "np.array([3.14,4,2,3])"
   ]
  },
  {
   "cell_type": "code",
   "execution_count": 35,
   "metadata": {},
   "outputs": [
    {
     "data": {
      "text/plain": [
       "array([1., 2., 3., 4.], dtype=float32)"
      ]
     },
     "execution_count": 35,
     "metadata": {},
     "output_type": "execute_result"
    }
   ],
   "source": [
    "np.array([1,2,3,4],dtype='float32')"
   ]
  },
  {
   "cell_type": "code",
   "execution_count": 36,
   "metadata": {},
   "outputs": [
    {
     "data": {
      "text/plain": [
       "array([[2, 3, 4],\n",
       "       [4, 5, 6],\n",
       "       [6, 7, 8]])"
      ]
     },
     "execution_count": 36,
     "metadata": {},
     "output_type": "execute_result"
    }
   ],
   "source": [
    "#nested lists result in multidimensional arrays\n",
    "np.array([range(i,i+3) for i in [2,4,6]])"
   ]
  },
  {
   "cell_type": "markdown",
   "metadata": {},
   "source": [
    "### Creating Arrays from Scratch\n",
    "Especially for larger arrays, it is more efficient to create arrays from scartch using routines built into NumPy. "
   ]
  },
  {
   "cell_type": "code",
   "execution_count": 37,
   "metadata": {},
   "outputs": [
    {
     "data": {
      "text/plain": [
       "array([[1., 0., 0.],\n",
       "       [0., 1., 0.],\n",
       "       [0., 0., 1.]])"
      ]
     },
     "execution_count": 37,
     "metadata": {},
     "output_type": "execute_result"
    }
   ],
   "source": [
    "# Create a length-10 integer array filled with zeros \n",
    "np.zeros(10,dtype=int)\n",
    "\n",
    "# Create a 3x5 floatting-point array filled with 1s\n",
    "np.ones((3,5),dtype=float)\n",
    "\n",
    "# Create a 3x5 array filled with 3.14\n",
    "np.full((3,5),3.14)\n",
    "\n",
    "# Create an array filled with a linear sequence \n",
    "# Starting at 0, ending at 20, stepping by 2\n",
    "# This is similar to the built in range() function\n",
    "np.arange(0,20,2)\n",
    "\n",
    "# Create an array of five values evenly spaced between 0 and 1\n",
    "np.linspace(0,1,5)\n",
    "\n",
    "# Create a 3x3 array of uniformly distributed random values between 0 and 1\n",
    "np.random.random((3,3))\n",
    "\n",
    "# Create a 3x3 array of normally distributed random values with mean 0 and standard deviation of 1\n",
    "np.random.normal(0,1,(3,3))\n",
    "\n",
    "# Create a 3x3 array of random integers in the interval [0,10]\n",
    "np.random.randint(0,10,(3,3))\n",
    "\n",
    "# Create a 3x3 identity matrix\n",
    "np.eye(3)"
   ]
  },
  {
   "cell_type": "markdown",
   "metadata": {},
   "source": [
    "### The Basics of NumPy Arrays \n",
    "Data manipulation in Python is nearly synonymous with NumPy array manipulation: even newer tools like Pandas are built around the NumPy array. \n",
    "\n",
    "Basic array manipulation: \n",
    "- **atributes of arrays** - determining the size, shape, memory consumption, and data types of arrays\n",
    "- **indexing of arrays** - getting and setting the value of individual array elements\n",
    "    - in a one dimensional array, you can access the ith value (counting from zero) by specifying the desired index in square brackets, just as with Python lists\n",
    "    - to index from the end of the array you can use negative indices\n",
    "    - in a multidimensional array, you can access items using a comma-seperated tuple of indices\n",
    "- **slicing of arrays** - getting and setting smaller subarrays within a larger array\n",
    "    - Just as we can use square brackets to access individual array elements, we can also use them to access subarrays with the slice notation, marked by the colon `:` character. \n",
    "    - `x[start:stop:step]`\n",
    "        - if any of these are unspecified, they default to the values start=0, stop = size of dimension, step = 1\n",
    "        - a potentially confusing case is when the step value is negative\n",
    "    - multidimensional slices work in the same way, with multiple slices seperated by commas\n",
    "    - to access a single row or column of an array you can combine indexing and slicing using an empty slice marked by a `:`\n",
    "    - one important thing to know about array slices is that they return views rather than copies of the array data. \n",
    "        - this default behavior is actually quite useful: it means that when we work with large datasets, we can access and process pieces of these datasets without the need to copy the underlying data buffer\n",
    "            - this is one area in which NumPy array slicing differs from Python list slicing: in lists slices will be copies \n",
    "- **reshaping of arrays** - changing the shape of a given array\n",
    "- **joining and splitting of arrays** - combining multiple arrays into one, and splitting one array into many"
   ]
  },
  {
   "cell_type": "code",
   "execution_count": 38,
   "metadata": {},
   "outputs": [],
   "source": [
    "x1 = np.random.randint(10,size=6) # one dimensional array\n",
    "x2 = np.random.randint(10,size=(3,4)) # two-dimensional array\n",
    "x3 = np.random.randint(10, size = (3,4,5)) # three-dimensional array"
   ]
  },
  {
   "cell_type": "code",
   "execution_count": 39,
   "metadata": {},
   "outputs": [
    {
     "data": {
      "text/plain": [
       "3"
      ]
     },
     "execution_count": 39,
     "metadata": {},
     "output_type": "execute_result"
    }
   ],
   "source": [
    "x1[0]\n",
    "x2[0,0]"
   ]
  },
  {
   "cell_type": "markdown",
   "metadata": {},
   "source": [
    "You can also modify values using any of the above index notation. Keep in mind that unlike Python lists, NumPy arrays have a fixed type. This means that, for example, if you attempt to insert a floating-point value to an integer array, the value will be silently truncated. "
   ]
  },
  {
   "cell_type": "code",
   "execution_count": 40,
   "metadata": {},
   "outputs": [
    {
     "data": {
      "text/plain": [
       "array([3, 2, 7, 8, 1, 6])"
      ]
     },
     "execution_count": 40,
     "metadata": {},
     "output_type": "execute_result"
    }
   ],
   "source": [
    "x2[0,0]=12\n",
    "x1[0]=3.144444 # will be truncated\n",
    "x1"
   ]
  },
  {
   "cell_type": "code",
   "execution_count": 41,
   "metadata": {},
   "outputs": [
    {
     "data": {
      "text/plain": [
       "array([0, 1, 2, 3, 4, 5, 6, 7, 8, 9])"
      ]
     },
     "execution_count": 41,
     "metadata": {},
     "output_type": "execute_result"
    }
   ],
   "source": [
    "x = np.arange(10)\n",
    "x"
   ]
  },
  {
   "cell_type": "code",
   "execution_count": 42,
   "metadata": {},
   "outputs": [
    {
     "data": {
      "text/plain": [
       "array([1, 3, 5, 7, 9])"
      ]
     },
     "execution_count": 42,
     "metadata": {},
     "output_type": "execute_result"
    }
   ],
   "source": [
    "x[:5] #first five elements\n",
    "x[5:] #elements after index 5\n",
    "x[4:7] #middle subarray\n",
    "x[::2] #every other element\n",
    "x[1::2] #every other element starting at index 1"
   ]
  },
  {
   "cell_type": "code",
   "execution_count": 43,
   "metadata": {},
   "outputs": [
    {
     "data": {
      "text/plain": [
       "array([[12,  2,  4,  8],\n",
       "       [ 3,  3,  4,  2],\n",
       "       [ 4,  7,  4,  2]])"
      ]
     },
     "execution_count": 43,
     "metadata": {},
     "output_type": "execute_result"
    }
   ],
   "source": [
    "x2"
   ]
  },
  {
   "cell_type": "code",
   "execution_count": 44,
   "metadata": {},
   "outputs": [
    {
     "data": {
      "text/plain": [
       "array([[ 2,  4,  7,  4],\n",
       "       [ 2,  4,  3,  3],\n",
       "       [ 8,  4,  2, 12]])"
      ]
     },
     "execution_count": 44,
     "metadata": {},
     "output_type": "execute_result"
    }
   ],
   "source": [
    "x2[:2,:3] #two rows and three columns\n",
    "x2[:3,::2] #all rows every other column\n",
    "\n",
    "#subarray dimensions can even be reversed together\n",
    "x2[::-1,::-1]"
   ]
  },
  {
   "cell_type": "code",
   "execution_count": 45,
   "metadata": {},
   "outputs": [
    {
     "name": "stdout",
     "output_type": "stream",
     "text": [
      "[12  3  4]\n",
      "[12  2  4  8]\n"
     ]
    }
   ],
   "source": [
    "print(x2[:,0]) # first column of x2\n",
    "print(x2[0,:]) # first row of x2"
   ]
  },
  {
   "cell_type": "code",
   "execution_count": 46,
   "metadata": {},
   "outputs": [
    {
     "name": "stdout",
     "output_type": "stream",
     "text": [
      "[[12  2  4  8]\n",
      " [ 3  3  4  2]\n",
      " [ 4  7  4  2]]\n"
     ]
    }
   ],
   "source": [
    "print(x2)"
   ]
  },
  {
   "cell_type": "code",
   "execution_count": 47,
   "metadata": {},
   "outputs": [
    {
     "name": "stdout",
     "output_type": "stream",
     "text": [
      "[[12  2]\n",
      " [ 3  3]]\n"
     ]
    }
   ],
   "source": [
    "# Let's extract a subarray from this: \n",
    "x2_sub = x2[:2,:2]\n",
    "print(x2_sub)"
   ]
  },
  {
   "cell_type": "code",
   "execution_count": 48,
   "metadata": {},
   "outputs": [
    {
     "name": "stdout",
     "output_type": "stream",
     "text": [
      "[[99  2  4  8]\n",
      " [ 3  3  4  2]\n",
      " [ 4  7  4  2]]\n"
     ]
    }
   ],
   "source": [
    "#Now if we modify this subarray we will see that the original array is changed!\n",
    "x2_sub[0,0]=99\n",
    "print(x2)"
   ]
  },
  {
   "cell_type": "markdown",
   "metadata": {},
   "source": [
    "### Creating Copies of Arrays\n",
    "It is useful to instead explicitly copy the data within an array or a subarray. This can be most easily done with the `copy()` method. "
   ]
  },
  {
   "cell_type": "code",
   "execution_count": 50,
   "metadata": {},
   "outputs": [
    {
     "data": {
      "text/plain": [
       "array([[99,  2,  4,  8],\n",
       "       [ 3,  3,  4,  2],\n",
       "       [ 4,  7,  4,  2]])"
      ]
     },
     "execution_count": 50,
     "metadata": {},
     "output_type": "execute_result"
    }
   ],
   "source": [
    "x2_sub_copy=x2[:2,:2].copy() #if we modify this subarray, the original array is not touched\n",
    "x2"
   ]
  },
  {
   "cell_type": "markdown",
   "metadata": {},
   "source": [
    "### Reshaping Arrays\n",
    "\n",
    "- `reshape()`: note that for this to work, the size of the initial array must match the size of the reshaped array. Whenever possible, the `reshape()` method will use a no-copy view of the initial array, but this is not always the case. \n",
    "\n",
    "- Another common reshaping pattern is the conversion of a one-dimensional array into a two dimensional row or column matrix. You can do this with the `reshape()` method or by making use of the `newaxis` keyword within a slice operation. "
   ]
  },
  {
   "cell_type": "code",
   "execution_count": 55,
   "metadata": {},
   "outputs": [
    {
     "data": {
      "text/plain": [
       "array([[1, 2, 3],\n",
       "       [4, 5, 6],\n",
       "       [7, 8, 9]])"
      ]
     },
     "execution_count": 55,
     "metadata": {},
     "output_type": "execute_result"
    }
   ],
   "source": [
    "grid = np.arange(1,10).reshape((3,3))\n",
    "grid"
   ]
  },
  {
   "cell_type": "code",
   "execution_count": 61,
   "metadata": {},
   "outputs": [
    {
     "data": {
      "text/plain": [
       "array([[1, 2, 3]])"
      ]
     },
     "execution_count": 61,
     "metadata": {},
     "output_type": "execute_result"
    }
   ],
   "source": [
    "x=np.array([1,2,3])\n",
    "\n",
    "# row vector via reshape\n",
    "x.reshape(1,3)\n",
    "\n",
    "# row vector via newaxis\n",
    "x[np.newaxis,:]"
   ]
  },
  {
   "cell_type": "code",
   "execution_count": 63,
   "metadata": {},
   "outputs": [
    {
     "data": {
      "text/plain": [
       "array([[1],\n",
       "       [2],\n",
       "       [3]])"
      ]
     },
     "execution_count": 63,
     "metadata": {},
     "output_type": "execute_result"
    }
   ],
   "source": [
    "# column vector via reshape\n",
    "x.reshape(3,1)\n",
    "\n",
    "# column vector via newaxis\n",
    "x[:,np.newaxis]"
   ]
  },
  {
   "cell_type": "markdown",
   "metadata": {},
   "source": [
    "### Array Concatenation and Splitting \n",
    "It is possible to combine multiple arrays into one and to conversley split a single array into multiple arrays. \n",
    "\n",
    "Concatenation\n",
    "- `np.concatenate`\n",
    "- `np.vstack`\n",
    "- `np.hstack`\n",
    "\n",
    "Splitting\n",
    "- `np.split`\n",
    "- `np.hsplit`\n",
    "- `np.vsplit`"
   ]
  },
  {
   "cell_type": "code",
   "execution_count": 70,
   "metadata": {},
   "outputs": [
    {
     "data": {
      "text/plain": [
       "array([[1, 2, 3],\n",
       "       [3, 4, 5]])"
      ]
     },
     "execution_count": 70,
     "metadata": {},
     "output_type": "execute_result"
    }
   ],
   "source": [
    "x = np.array([1,2,3])\n",
    "y = np.array([3,2,1])\n",
    "z = np.array([99,99,99])\n",
    "\n",
    "np.concatenate([x,y])\n",
    "np.concatenate([x,y,z])\n",
    "\n",
    "# np.concatenate can also be used for two-dimensional arrays\n",
    "grid = np.array([[1,2,3],[3,4,5]])\n",
    "grid"
   ]
  },
  {
   "cell_type": "code",
   "execution_count": 71,
   "metadata": {},
   "outputs": [
    {
     "data": {
      "text/plain": [
       "array([[1, 2, 3],\n",
       "       [3, 4, 5],\n",
       "       [1, 2, 3],\n",
       "       [3, 4, 5]])"
      ]
     },
     "execution_count": 71,
     "metadata": {},
     "output_type": "execute_result"
    }
   ],
   "source": [
    "# Concatenate along the first axis\n",
    "np.concatenate([grid,grid])"
   ]
  },
  {
   "cell_type": "code",
   "execution_count": 72,
   "metadata": {},
   "outputs": [
    {
     "data": {
      "text/plain": [
       "array([[1, 2, 3, 1, 2, 3],\n",
       "       [3, 4, 5, 3, 4, 5]])"
      ]
     },
     "execution_count": 72,
     "metadata": {},
     "output_type": "execute_result"
    }
   ],
   "source": [
    "# Concatenate along the second axis \n",
    "np.concatenate([grid,grid],axis=1)"
   ]
  },
  {
   "cell_type": "code",
   "execution_count": null,
   "metadata": {},
   "outputs": [],
   "source": [
    "# Vertically stack the arrays"
   ]
  }
 ],
 "metadata": {
  "kernelspec": {
   "display_name": "Python 3",
   "language": "python",
   "name": "python3"
  },
  "language_info": {
   "codemirror_mode": {
    "name": "ipython",
    "version": 3
   },
   "file_extension": ".py",
   "mimetype": "text/x-python",
   "name": "python",
   "nbconvert_exporter": "python",
   "pygments_lexer": "ipython3",
   "version": "3.7.1"
  }
 },
 "nbformat": 4,
 "nbformat_minor": 2
}

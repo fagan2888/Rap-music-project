{
 "cells": [
  {
   "cell_type": "markdown",
   "metadata": {},
   "source": [
    "# Rap Music Analysis"
   ]
  },
  {
   "cell_type": "code",
   "execution_count": 1,
   "metadata": {},
   "outputs": [],
   "source": [
    "# ! pip install requests\n",
    "# ! pip install beautifulsoup4"
   ]
  },
  {
   "cell_type": "markdown",
   "metadata": {},
   "source": [
    "I found this cool project: http://people.ischool.berkeley.edu/~nikhitakoul/capstone/index.html"
   ]
  },
  {
   "cell_type": "markdown",
   "metadata": {},
   "source": [
    "https://www.crummy.com/software/BeautifulSoup/bs4/doc/\n",
    "\n",
    "https://medium.com/analytics-vidhya/how-to-scrape-song-lyrics-a-gentle-python-tutorial-5b1d4ab351d2"
   ]
  },
  {
   "cell_type": "markdown",
   "metadata": {},
   "source": [
    "This video is helpful: https://www.youtube.com/watch?v=87Gx3U0BDlo"
   ]
  },
  {
   "cell_type": "code",
   "execution_count": null,
   "metadata": {},
   "outputs": [],
   "source": [
    "#API for Genius\n",
    "token = \"Pg0eOPYZEqcPC670sbJyfseDwcYCK4KanrXOHoJF-vD9J0CCYHBNiY5OIS-tvT4s\""
   ]
  },
  {
   "cell_type": "code",
   "execution_count": 14,
   "metadata": {},
   "outputs": [],
   "source": [
    "import urllib.request\n",
    "import urllib.parse\n",
    "import urllib.error\n",
    "from bs4 import BeautifulSoup\n",
    "import ssl\n",
    "import json\n",
    "import ast\n",
    "import os\n",
    "from urllib.request import Request, urlopen"
   ]
  },
  {
   "cell_type": "code",
   "execution_count": 25,
   "metadata": {},
   "outputs": [],
   "source": [
    "ctx = ssl.create_default_context()\n",
    "ctx.check_hostname= False\n",
    "ctx.verify_mode = ssl.CERT_NONE"
   ]
  },
  {
   "cell_type": "code",
   "execution_count": null,
   "metadata": {},
   "outputs": [],
   "source": [
    "url='https://genius.com/Eminem-rap-god-lyrics'"
   ]
  },
  {
   "cell_type": "code",
   "execution_count": 26,
   "metadata": {},
   "outputs": [],
   "source": [
    "req = Request(url, headers = {\"User-Agent\" : \"Mozilla/5.0\"})\n",
    "webpage = urlopen(req).read()"
   ]
  },
  {
   "cell_type": "code",
   "execution_count": 55,
   "metadata": {},
   "outputs": [],
   "source": [
    "# Create a BeautifulSoup object \n",
    "soup = BeautifulSoup(webpage, 'html.parser')\n",
    "html = soup.prettify('utf-8')\n",
    "song_json={}\n",
    "song_json['Lyrics'] = [];\n",
    "song_json['Comments']=[];\n",
    "\n",
    "\n",
    "# Extract title of the song\n",
    "for title in soup.findAll('title'): \n",
    "    song_json['Title']=title.text.strip()\n",
    "\n",
    "# Extract artist of the song\n",
    "for artist in soup.findAll('Primary Artist'): \n",
    "    song_json['Artist']=artist.text.strip()\n",
    "\n",
    "# Extract user comments on the song\n",
    "for div in soup.findAll('div',attrs={'class':'rich_text_formatting'}):\n",
    "    comments = div.text.strip().split(\"\\n\")\n",
    "    \n",
    "    for comment in comments: \n",
    "        if comment != \"\":\n",
    "            song_json['Comments'].append(comment);\n",
    "            \n",
    "# Extract the lyrics of the song\n",
    "for div in soup.findAll('div', attrs = {'class':'lyrics'}):\n",
    "    song_json['Lyrics'].append(div.text.strip().split(\"\\n\")); "
   ]
  },
  {
   "cell_type": "code",
   "execution_count": 60,
   "metadata": {},
   "outputs": [],
   "source": [
    "#Save the json created with the file name as title + .json\n",
    "with open(song_json[\"Title\"] + '.json', 'w') as outfile:\n",
    "    json.dump(song_json, outfile, indent = 4, ensure_ascii = False)\n",
    "\n",
    "# Save the html content into an html file with name as title + .html\n",
    "with open(song_json[\"Title\"] + '.html', 'wb') as file:\n",
    "    file.write(html)"
   ]
  },
  {
   "cell_type": "code",
   "execution_count": null,
   "metadata": {},
   "outputs": [],
   "source": []
  }
 ],
 "metadata": {
  "kernelspec": {
   "display_name": "Python 3",
   "language": "python",
   "name": "python3"
  },
  "language_info": {
   "codemirror_mode": {
    "name": "ipython",
    "version": 3
   },
   "file_extension": ".py",
   "mimetype": "text/x-python",
   "name": "python",
   "nbconvert_exporter": "python",
   "pygments_lexer": "ipython3",
   "version": "3.7.1"
  }
 },
 "nbformat": 4,
 "nbformat_minor": 2
}

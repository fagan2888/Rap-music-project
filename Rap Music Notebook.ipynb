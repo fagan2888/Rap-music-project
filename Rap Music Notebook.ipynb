{
 "cells": [
  {
   "cell_type": "markdown",
   "metadata": {},
   "source": [
    "# Rap Music Analysis"
   ]
  },
  {
   "cell_type": "code",
   "execution_count": 19,
   "metadata": {},
   "outputs": [],
   "source": [
    "# ! pip install requests\n",
    "# ! pip install beautifulsoup4\n",
    "# ! pip install selenium"
   ]
  },
  {
   "cell_type": "code",
   "execution_count": 20,
   "metadata": {},
   "outputs": [],
   "source": [
    "from selenium import webdriver\n",
    "from selenium.webdriver.common.keys import Keys\n",
    "\n",
    "# driver = webdriver.Firefox()"
   ]
  },
  {
   "cell_type": "code",
   "execution_count": 6,
   "metadata": {},
   "outputs": [],
   "source": [
    "import urllib.request\n",
    "import urllib.parse\n",
    "import urllib.error\n",
    "from bs4 import BeautifulSoup\n",
    "import ssl\n",
    "import json\n",
    "import ast\n",
    "import os\n",
    "from urllib.request import Request, urlopen\n",
    "import requests"
   ]
  },
  {
   "cell_type": "code",
   "execution_count": 7,
   "metadata": {},
   "outputs": [],
   "source": [
    "#API for Genius\n",
    "\n",
    "ClientID = 'YKXpjqrhn6TBeUGu_Cl2R5WxX1n9ocoyVp1BCVSD0wB24P9AiZfRpEx9yosghZRZ'\n",
    "Client_secret = 'LbvQg5Qr4Z15ccjx5mIDRqoIUOW-5rhfQmeCuSjgLujXXKA7JSUc0RUl2aAhppdTATjE4MOK2vK3vFHZlSjxJA'\n"
   ]
  },
  {
   "cell_type": "code",
   "execution_count": 8,
   "metadata": {},
   "outputs": [
    {
     "name": "stdout",
     "output_type": "stream",
     "text": [
      "artist and song: Rihana\n",
      "https://api.genius.com/search/Rihana\n",
      "{\"meta\":{\"status\":200},\"response\":{\"hits\":[{\"highlights\":[],\"index\":\"song\",\"type\":\"song\",\"result\":{\"annotation_count\":1,\"api_path\":\"/songs/2165535\",\"full_title\":\"Fuck boy by Rihana abdulkaf\",\"header_image_thumbnail_url\":\"https://assets.genius.com/images/default_cover_image.png?1594314430\",\"header_image_url\":\"https://assets.genius.com/images/default_cover_image.png?1594314430\",\"id\":2165535,\"lyrics_owner_id\":1915487,\"lyrics_state\":\"complete\",\"path\":\"/Rihana-abdulkaf-fuck-boy-lyrics\",\"pyongs_count\":null,\"song_art_image_thumbnail_url\":\"https://assets.genius.com/images/default_cover_image.png?1594314430\",\"song_art_image_url\":\"https://assets.genius.com/images/default_cover_image.png?1594314430\",\"stats\":{\"unreviewed_annotations\":1,\"hot\":false},\"title\":\"Fuck boy\",\"title_with_featured\":\"Fuck boy\",\"url\":\"https://genius.com/Rihana-abdulkaf-fuck-boy-lyrics\",\"primary_artist\":{\"api_path\":\"/artists/514599\",\"header_image_url\":\"https://assets.genius.com/images/default_avatar_300.png?1594314430\",\"id\":514599,\"image_url\":\"https://assets.genius.com/images/default_avatar_300.png?1594314430\",\"is_meme_verified\":false,\"is_verified\":false,\"name\":\"Rihana abdulkaf\",\"url\":\"https://genius.com/artists/Rihana-abdulkaf\"}}},{\"highlights\":[],\"index\":\"song\",\"type\":\"song\",\"result\":{\"annotation_count\":12,\"api_path\":\"/songs/2851441\",\"full_title\":\"Chcemy Być Wyżej by Sitek\",\"header_image_thumbnail_url\":\"https://images.genius.com/5d5f01dbfc233d5372f857ae89e56aa3.300x300x1.jpg\",\"header_image_url\":\"https://images.genius.com/5d5f01dbfc233d5372f857ae89e56aa3.1000x1000x1.jpg\",\"id\":2851441,\"lyrics_owner_id\":1667767,\"lyrics_state\":\"complete\",\"path\":\"/Sitek-chcemy-byc-wyzej-lyrics\",\"pyongs_count\":4,\"song_art_image_thumbnail_url\":\"https://images.genius.com/5d5f01dbfc233d5372f857ae89e56aa3.300x300x1.jpg\",\"song_art_image_url\":\"https://images.genius.com/5d5f01dbfc233d5372f857ae89e56aa3.1000x1000x1.jpg\",\"stats\":{\"unreviewed_annotations\":0,\"hot\":false,\"pageviews\":74012},\"title\":\"Chcemy Być Wyżej\",\"title_with_featured\":\"Chcemy Być Wyżej\",\"url\":\"https://genius.com/Sitek-chcemy-byc-wyzej-lyrics\",\"primary_artist\":{\"api_path\":\"/artists/43233\",\"header_image_url\":\"https://images.genius.com/786a20695abad46865252de2443abdff.1000x563x1.jpg\",\"id\":43233,\"image_url\":\"https://images.genius.com/c86644ec3b724c072f5154d85f8bf03e.458x458x1.jpg\",\"is_meme_verified\":false,\"is_verified\":false,\"name\":\"Sitek\",\"url\":\"https://genius.com/artists/Sitek\"}}},{\"highlights\":[],\"index\":\"song\",\"type\":\"song\",\"result\":{\"annotation_count\":0,\"api_path\":\"/songs/491812\",\"full_title\":\"So Mi Like It (Remix) by Spice (Ft. Busta Rhymes)\",\"header_image_thumbnail_url\":\"https://images.genius.com/e62c91245f30f934445e89fdf7493038.300x300x1.jpg\",\"header_image_url\":\"https://images.genius.com/e62c91245f30f934445e89fdf7493038.500x500x1.jpg\",\"id\":491812,\"lyrics_owner_id\":157503,\"lyrics_state\":\"complete\",\"path\":\"/Spice-so-mi-like-it-remix-lyrics\",\"pyongs_count\":3,\"song_art_image_thumbnail_url\":\"https://images.genius.com/e62c91245f30f934445e89fdf7493038.300x300x1.jpg\",\"song_art_image_url\":\"https://images.genius.com/e62c91245f30f934445e89fdf7493038.500x500x1.jpg\",\"stats\":{\"unreviewed_annotations\":0,\"hot\":false,\"pageviews\":7499},\"title\":\"So Mi Like It (Remix)\",\"title_with_featured\":\"So Mi Like It (Remix) (Ft. Busta Rhymes)\",\"url\":\"https://genius.com/Spice-so-mi-like-it-remix-lyrics\",\"primary_artist\":{\"api_path\":\"/artists/25958\",\"header_image_url\":\"https://images.genius.com/26f01055780b64e299b3e1237a59c3c5.1000x668x1.jpg\",\"id\":25958,\"image_url\":\"https://images.genius.com/92175f64124693b89bfae1a4aecd8130.1000x1000x1.jpg\",\"is_meme_verified\":false,\"is_verified\":true,\"name\":\"Spice\",\"url\":\"https://genius.com/artists/Spice\",\"iq\":372}}},{\"highlights\":[],\"index\":\"song\",\"type\":\"song\",\"result\":{\"annotation_count\":3,\"api_path\":\"/songs/3300680\",\"full_title\":\"Aroma der Großstadt by Celo & Abdi (Ft. Azzi Memo & Soufian)\",\"header_image_thumbnail_url\":\"https://images.genius.com/ac29eeb5cd61b15befb11a939a13d788.300x300x1.jpg\",\"header_image_url\":\"https://images.genius.com/ac29eeb5cd61b15befb11a939a13d788.1000x1000x1.jpg\",\"id\":3300680,\"lyrics_owner_id\":5378292,\"lyrics_state\":\"complete\",\"path\":\"/Celo-and-abdi-aroma-der-grostadt-lyrics\",\"pyongs_count\":null,\"song_art_image_thumbnail_url\":\"https://images.genius.com/ac29eeb5cd61b15befb11a939a13d788.300x300x1.jpg\",\"song_art_image_url\":\"https://images.genius.com/ac29eeb5cd61b15befb11a939a13d788.1000x1000x1.jpg\",\"stats\":{\"unreviewed_annotations\":3,\"hot\":false,\"pageviews\":7930},\"title\":\"Aroma der Großstadt\",\"title_with_featured\":\"Aroma der Großstadt (Ft. Azzi Memo & Soufian)\",\"url\":\"https://genius.com/Celo-and-abdi-aroma-der-grostadt-lyrics\",\"primary_artist\":{\"api_path\":\"/artists/19125\",\"header_image_url\":\"https://images.genius.com/c4f9x3l46t5o5dkyuamuvdwix.300x235x1.jpg\",\"id\":19125,\"image_url\":\"https://images.genius.com/c4f9x3l46t5o5dkyuamuvdwix.300x235x1.jpg\",\"is_meme_verified\":true,\"is_verified\":true,\"name\":\"Celo & Abdi\",\"url\":\"https://genius.com/artists/Celo-and-abdi\",\"iq\":4028}}},{\"highlights\":[],\"index\":\"song\",\"type\":\"song\",\"result\":{\"annotation_count\":7,\"api_path\":\"/songs/4419\",\"full_title\":\"Loose by Spank Rock\",\"header_image_thumbnail_url\":\"https://s3.amazonaws.com/rapgenius/spank_rock_456_001.jpg\",\"header_image_url\":\"https://s3.amazonaws.com/rapgenius/spank_rock_456_001.jpg\",\"id\":4419,\"lyrics_owner_id\":135,\"lyrics_state\":\"complete\",\"path\":\"/Spank-rock-loose-lyrics\",\"pyongs_count\":null,\"song_art_image_thumbnail_url\":\"https://s3.amazonaws.com/rapgenius/spank_rock_456_001.jpg\",\"song_art_image_url\":\"https://s3.amazonaws.com/rapgenius/spank_rock_456_001.jpg\",\"stats\":{\"unreviewed_annotations\":5,\"hot\":false},\"title\":\"Loose\",\"title_with_featured\":\"Loose\",\"url\":\"https://genius.com/Spank-rock-loose-lyrics\",\"primary_artist\":{\"api_path\":\"/artists/1903\",\"header_image_url\":\"https://s3.amazonaws.com/rapgenius/spank_rock_456_001.jpg\",\"id\":1903,\"image_url\":\"https://s3.amazonaws.com/rapgenius/spank_rock_456_001.jpg\",\"is_meme_verified\":false,\"is_verified\":false,\"name\":\"Spank Rock\",\"url\":\"https://genius.com/artists/Spank-rock\"}}},{\"highlights\":[],\"index\":\"song\",\"type\":\"song\",\"result\":{\"annotation_count\":0,\"api_path\":\"/songs/3340692\",\"full_title\":\"Ela é do Sol by Diego Thug\",\"header_image_thumbnail_url\":\"https://images.genius.com/08f7c838f32a8759b56b8289518c8468.300x300x1.jpg\",\"header_image_url\":\"https://images.genius.com/08f7c838f32a8759b56b8289518c8468.800x800x1.jpg\",\"id\":3340692,\"lyrics_owner_id\":3710176,\"lyrics_state\":\"complete\",\"path\":\"/Diego-thug-ela-e-do-sol-lyrics\",\"pyongs_count\":1,\"song_art_image_thumbnail_url\":\"https://images.genius.com/08f7c838f32a8759b56b8289518c8468.300x300x1.jpg\",\"song_art_image_url\":\"https://images.genius.com/08f7c838f32a8759b56b8289518c8468.800x800x1.jpg\",\"stats\":{\"unreviewed_annotations\":0,\"hot\":false},\"title\":\"Ela é do Sol\",\"title_with_featured\":\"Ela é do Sol\",\"url\":\"https://genius.com/Diego-thug-ela-e-do-sol-lyrics\",\"primary_artist\":{\"api_path\":\"/artists/994299\",\"header_image_url\":\"https://images.genius.com/9e8e38fefbb231cebb337a4f91482ebe.1000x563x1.jpg\",\"id\":994299,\"image_url\":\"https://images.genius.com/bf4cb5231dc94c806c10a75e1f501865.1000x1000x1.jpg\",\"is_meme_verified\":false,\"is_verified\":false,\"name\":\"Diego Thug\",\"url\":\"https://genius.com/artists/Diego-thug\"}}},{\"highlights\":[],\"index\":\"song\",\"type\":\"song\",\"result\":{\"annotation_count\":1,\"api_path\":\"/songs/2320585\",\"full_title\":\"B.N.O.L / بين نهار و ليل by Icowesh (Ft. Klam)\",\"header_image_thumbnail_url\":\"https://s3.amazonaws.com/filepicker-images-rapgenius/FVJza0SMisAIbGDoOOwg__MG_5978.jpg\",\"header_image_url\":\"https://s3.amazonaws.com/filepicker-images-rapgenius/FVJza0SMisAIbGDoOOwg__MG_5978.jpg\",\"id\":2320585,\"lyrics_owner_id\":1303998,\"lyrics_state\":\"complete\",\"path\":\"/Icowesh-bnol-lyrics\",\"pyongs_count\":null,\"song_art_image_thumbnail_url\":\"https://s3.amazonaws.com/filepicker-images-rapgenius/FVJza0SMisAIbGDoOOwg__MG_5978.jpg\",\"song_art_image_url\":\"https://s3.amazonaws.com/filepicker-images-rapgenius/FVJza0SMisAIbGDoOOwg__MG_5978.jpg\",\"stats\":{\"unreviewed_annotations\":0,\"hot\":false},\"title\":\"B.N.O.L / بين نهار و ليل\",\"title_with_featured\":\"B.N.O.L / بين نهار و ليل (Ft. Klam)\",\"url\":\"https://genius.com/Icowesh-bnol-lyrics\",\"primary_artist\":{\"api_path\":\"/artists/325598\",\"header_image_url\":\"https://s3.amazonaws.com/filepicker-images-rapgenius/LuzHJoH9Qvynv1lOBbJI_received_376142436093298.jpeg\",\"id\":325598,\"image_url\":\"https://s3.amazonaws.com/filepicker-images-rapgenius/FVJza0SMisAIbGDoOOwg__MG_5978.jpg\",\"is_meme_verified\":false,\"is_verified\":true,\"name\":\"Icowesh\",\"url\":\"https://genius.com/artists/Icowesh\",\"iq\":238}}},{\"highlights\":[],\"index\":\"song\",\"type\":\"song\",\"result\":{\"annotation_count\":0,\"api_path\":\"/songs/2838299\",\"full_title\":\"Deserve by BandGang Masoe\",\"header_image_thumbnail_url\":\"https://images.genius.com/c6af58c393c0be5bceb755ee7fd55541.300x300x1.jpg\",\"header_image_url\":\"https://images.genius.com/c6af58c393c0be5bceb755ee7fd55541.1000x1000x1.jpg\",\"id\":2838299,\"lyrics_owner_id\":3600924,\"lyrics_state\":\"complete\",\"path\":\"/Bandgang-masoe-deserve-lyrics\",\"pyongs_count\":null,\"song_art_image_thumbnail_url\":\"https://images.genius.com/c6af58c393c0be5bceb755ee7fd55541.300x300x1.jpg\",\"song_art_image_url\":\"https://images.genius.com/c6af58c393c0be5bceb755ee7fd55541.1000x1000x1.jpg\",\"stats\":{\"unreviewed_annotations\":0,\"hot\":false},\"title\":\"Deserve\",\"title_with_featured\":\"Deserve\",\"url\":\"https://genius.com/Bandgang-masoe-deserve-lyrics\",\"primary_artist\":{\"api_path\":\"/artists/990097\",\"header_image_url\":\"https://images.genius.com/662d137c76cc3c2c691d7aaab6cb2dae.1000x998x1.jpg\",\"id\":990097,\"image_url\":\"https://images.genius.com/c6af58c393c0be5bceb755ee7fd55541.1000x1000x1.jpg\",\"is_meme_verified\":false,\"is_verified\":false,\"name\":\"BandGang Masoe\",\"url\":\"https://genius.com/artists/Bandgang-masoe\"}}},{\"highlights\":[],\"index\":\"song\",\"type\":\"song\",\"result\":{\"annotation_count\":6,\"api_path\":\"/songs/730234\",\"full_title\":\"Hot Trash by Trash Squad (Ft. Lew Ashby, ReguIarRy & R.I.P Bluerose)\",\"header_image_thumbnail_url\":\"https://images.rapgenius.com/d947b1a2b06813599fe2687d47516b68.300x225x1.png\",\"header_image_url\":\"https://images.rapgenius.com/d947b1a2b06813599fe2687d47516b68.300x225x1.png\",\"id\":730234,\"lyrics_owner_id\":224027,\"lyrics_state\":\"complete\",\"path\":\"/Trash-squad-hot-trash-lyrics\",\"pyongs_count\":18,\"song_art_image_thumbnail_url\":\"https://images.rapgenius.com/d947b1a2b06813599fe2687d47516b68.300x225x1.png\",\"song_art_image_url\":\"https://images.rapgenius.com/d947b1a2b06813599fe2687d47516b68.300x225x1.png\",\"stats\":{\"unreviewed_annotations\":0,\"hot\":false},\"title\":\"Hot Trash\",\"title_with_featured\":\"Hot Trash (Ft. Lew Ashby, ReguIarRy & R.I.P Bluerose)\",\"url\":\"https://genius.com/Trash-squad-hot-trash-lyrics\",\"primary_artist\":{\"api_path\":\"/artists/338858\",\"header_image_url\":\"https://assets.genius.com/images/default_avatar_300.png?1594314430\",\"id\":338858,\"image_url\":\"https://assets.genius.com/images/default_avatar_300.png?1594314430\",\"is_meme_verified\":false,\"is_verified\":false,\"name\":\"Trash Squad\",\"url\":\"https://genius.com/artists/Trash-squad\"}}}]}}\n"
     ]
    }
   ],
   "source": [
    "#search for song\n",
    "\n",
    "client_access_token = 'XCXzd1AHCXzteLWAlqqSkZElvC4YGsux7DECb89Bbour93_g80bNgMScWVVNoyuK'\n",
    "base_url = 'https://api.genius.com'\n",
    "\n",
    "user_input = input('artist and song: ').replace(\" \", \"-\")\n",
    "\n",
    "path = 'search/'\n",
    "request_uri = '/'.join([base_url, path])\n",
    "print(request_uri + user_input)\n",
    "\n",
    "params = {'q': user_input}\n",
    "\n",
    "token = 'Bearer {}'.format(client_access_token)\n",
    "headers = {'Authorization': token}\n",
    "\n",
    "r = requests.get(request_uri, params=params, headers=headers)\n",
    "print(r.text)"
   ]
  },
  {
   "cell_type": "code",
   "execution_count": 25,
   "metadata": {},
   "outputs": [],
   "source": [
    "ctx = ssl.create_default_context()\n",
    "ctx.check_hostname= False\n",
    "ctx.verify_mode = ssl.CERT_NONE"
   ]
  },
  {
   "cell_type": "code",
   "execution_count": 15,
   "metadata": {},
   "outputs": [],
   "source": [
    "req = Request(url, headers = {\"User-Agent\" : \"Mozilla/5.0\"})\n",
    "webpage = urlopen(req).read()"
   ]
  },
  {
   "cell_type": "code",
   "execution_count": 18,
   "metadata": {},
   "outputs": [],
   "source": [
    "urls = ['https://genius.com/Eminem-rap-god-lyrics',\n",
    "        'https://genius.com/Kendrick-lamar-humble-lyrics'] # populate with links to song lyrics\n",
    "\n",
    "for url in urls: \n",
    "\n",
    "    # Create a BeautifulSoup object \n",
    "    soup = BeautifulSoup(webpage, 'html.parser')\n",
    "    html = soup.prettify('utf-8')\n",
    "    song_json={}\n",
    "    song_json['Lyrics'] = [];\n",
    "    song_json['Comments']=[];\n",
    "\n",
    "\n",
    "    # Extract title of the song\n",
    "    for title in soup.findAll('title'): \n",
    "        song_json['Title']=title.text.strip()\n",
    "\n",
    "    # Extract artist of the song\n",
    "    for artist in soup.findAll('Primary Artist'): \n",
    "        song_json['Artist']=artist.text.strip()\n",
    "\n",
    "    # Extract user comments on the song\n",
    "    for div in soup.findAll('div',attrs={'class':'rich_text_formatting'}):\n",
    "        comments = div.text.strip().split(\"\\n\")\n",
    "\n",
    "        for comment in comments: \n",
    "            if comment != \"\":\n",
    "                song_json['Comments'].append(comment);\n",
    "\n",
    "    # Extract the lyrics of the song\n",
    "    for div in soup.findAll('div', attrs = {'class':'lyrics'}):\n",
    "        song_json['Lyrics'].append(div.text.strip().split(\"\\n\")); \n",
    "\n",
    "    #Save the json created with the file name as title + .json\n",
    "    with open(song_json[\"Title\"] + '.json', 'w') as outfile:\n",
    "        json.dump(song_json, outfile, indent = 4, ensure_ascii = False)\n",
    "\n",
    "    # Save the html content into an html file with name as title + .html\n",
    "    with open(song_json[\"Title\"] + '.html', 'wb') as file:\n",
    "        file.write(html)"
   ]
  },
  {
   "cell_type": "code",
   "execution_count": null,
   "metadata": {},
   "outputs": [],
   "source": []
  }
 ],
 "metadata": {
  "kernelspec": {
   "display_name": "Python 3",
   "language": "python",
   "name": "python3"
  },
  "language_info": {
   "codemirror_mode": {
    "name": "ipython",
    "version": 3
   },
   "file_extension": ".py",
   "mimetype": "text/x-python",
   "name": "python",
   "nbconvert_exporter": "python",
   "pygments_lexer": "ipython3",
   "version": "3.7.1"
  }
 },
 "nbformat": 4,
 "nbformat_minor": 2
}

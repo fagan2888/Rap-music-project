{
 "cells": [
  {
   "cell_type": "markdown",
   "metadata": {},
   "source": [
    "# Rap Music Analysis"
   ]
  },
  {
   "cell_type": "code",
   "execution_count": 1,
   "metadata": {},
   "outputs": [],
   "source": [
    "import urllib.request\n",
    "import urllib.parse\n",
    "import urllib.error\n",
    "from urllib.request import Request, urlopen\n",
    "import requests\n",
    "\n",
    "from bs4 import BeautifulSoup\n",
    "\n",
    "import pandas as pd"
   ]
  },
  {
   "cell_type": "code",
   "execution_count": 2,
   "metadata": {},
   "outputs": [],
   "source": [
    "column_names = ['Lyrics','Comments']\n",
    "\n",
    "df = pd.DataFrame(columns = column_names)"
   ]
  },
  {
   "cell_type": "code",
   "execution_count": 3,
   "metadata": {},
   "outputs": [],
   "source": [
    "def request_artist_info(artist_name, page):\n",
    "    \n",
    "    \"\"\" This function ______\n",
    "    \n",
    "    Args: \n",
    "        artist_name(str): name of the artist\n",
    "        page(int): webpage number \n",
    "    \n",
    "    Returns: \n",
    "        _____________ADD_________\n",
    "        \n",
    "    \"\"\"\n",
    "    \n",
    "    base_url = 'https://api.genius.com'\n",
    "    GENIUS_API_TOKEN = 'VetJWKIjYbo8ujjg8V_PTQnqAkY8xN1fbajgaaTiON0rkgWFuI6X47dXPKCaZQLM'\n",
    "    \n",
    "    headers = {'Authorization': 'Bearer ' + GENIUS_API_TOKEN}\n",
    "    search_url = base_url + '/search?per_page=10&page=' + str(page)\n",
    "    data = {'q': artist_name}\n",
    "    response = requests.get(search_url, data=data, headers=headers)\n",
    "    return response      "
   ]
  },
  {
   "cell_type": "code",
   "execution_count": 4,
   "metadata": {},
   "outputs": [],
   "source": [
    "def request_song_url(artist_name, song_cap):\n",
    "    \n",
    "    \"\"\" This function populates a list with urls to the songs by a chosen artist. \n",
    "\n",
    "    Args: \n",
    "        artist_name(str): name of the artist\n",
    "        song_cap(int): number of urls/songs you want \n",
    "        \n",
    "    Returns: \n",
    "        list of strings, each string is a url to a song by the artist\n",
    "    \n",
    "    \"\"\"\n",
    "    page = 1\n",
    "    songs = []\n",
    "    \n",
    "    while True:\n",
    "        response = request_artist_info(artist_name, page)\n",
    "        json = response.json()       \n",
    "        song_info = []\n",
    "        for hit in json['response']['hits']:\n",
    "            if artist_name.lower() in hit['result']['primary_artist']['name'].lower():\n",
    "                song_info.append(hit)\n",
    "    \n",
    "        \n",
    "        for song in song_info:\n",
    "            if (len(songs) < song_cap):\n",
    "                url = song['result']['url']\n",
    "                songs.append(url)\n",
    "            \n",
    "        if (len(songs) == song_cap):\n",
    "            break\n",
    "        else:\n",
    "            page += 1\n",
    "        \n",
    "    print('Found {} songs by {}'.format(len(songs), artist_name))\n",
    "    return songs"
   ]
  },
  {
   "cell_type": "code",
   "execution_count": 5,
   "metadata": {},
   "outputs": [
    {
     "name": "stdout",
     "output_type": "stream",
     "text": [
      "Found 10 songs by Lana Del Rey\n"
     ]
    },
    {
     "data": {
      "text/plain": [
       "['https://genius.com/Lana-del-rey-young-and-beautiful-lyrics',\n",
       " 'https://genius.com/Lana-del-rey-love-lyrics',\n",
       " 'https://genius.com/Lana-del-rey-summertime-sadness-lyrics',\n",
       " 'https://genius.com/Lana-del-rey-lust-for-life-lyrics',\n",
       " 'https://genius.com/The-weeknd-and-lana-del-rey-prisoner-lyrics',\n",
       " 'https://genius.com/Lana-del-rey-born-to-die-lyrics',\n",
       " 'https://genius.com/Lana-del-rey-high-by-the-beach-lyrics',\n",
       " 'https://genius.com/Lana-del-rey-video-games-lyrics',\n",
       " 'https://genius.com/Lana-del-rey-norman-fucking-rockwell-lyrics',\n",
       " 'https://genius.com/Lana-del-rey-cherry-lyrics']"
      ]
     },
     "execution_count": 5,
     "metadata": {},
     "output_type": "execute_result"
    }
   ],
   "source": [
    "urls = request_song_url('Lana Del Rey',10)\n",
    "\n",
    "urls"
   ]
  },
  {
   "cell_type": "code",
   "execution_count": 7,
   "metadata": {},
   "outputs": [],
   "source": [
    "for url in urls: \n",
    "    \n",
    "    req = Request(url, headers = {\"User-Agent\" : \"Mozilla/5.0\"})\n",
    "    webpage = urlopen(req).read()\n",
    "\n",
    "    # Create a BeautifulSoup object \n",
    "    soup = BeautifulSoup(webpage, 'html.parser')\n",
    "    html = soup.prettify('utf-8')\n",
    "    song={}\n",
    "    \n",
    "    song['Title'] = [];\n",
    "    song['Artist'] = [];\n",
    "    song['Lyrics'] = [];\n",
    "    song['Comments']=[];\n",
    "\n",
    "    # Extract title of the song\n",
    "    for title in soup.findAll('title'): \n",
    "        song['Title'].append(title.text.strip())\n",
    "\n",
    "    # Extract artist of the song\n",
    "    for artist in soup.findAll('Primary Artist'): \n",
    "        song['Artist'].append(artist.text.strip())\n",
    "\n",
    "    # Extract user comments on the song\n",
    "    for div in soup.findAll('div',attrs={'class':'rich_text_formatting'}):\n",
    "        comments = div.text.strip().split(\"\\n\")\n",
    "\n",
    "        for comment in comments: \n",
    "            if comment != \"\":\n",
    "                song['Comments'].append(comment);\n",
    "\n",
    "    # Extract the lyrics of the song\n",
    "    for div in soup.findAll('div', attrs = {'class':'lyrics'}):\n",
    "        song['Lyrics'].append(div.text.strip().split(\"\\n\"));\n",
    "   \n",
    "    df_length = len(df)\n",
    "    df.loc[df_length] = [ song['Lyrics'],song['Comments']] # ADD song['Title'],song['Artist'] to the DF"
   ]
  },
  {
   "cell_type": "code",
   "execution_count": 8,
   "metadata": {},
   "outputs": [
    {
     "data": {
      "text/html": [
       "<div>\n",
       "<style scoped>\n",
       "    .dataframe tbody tr th:only-of-type {\n",
       "        vertical-align: middle;\n",
       "    }\n",
       "\n",
       "    .dataframe tbody tr th {\n",
       "        vertical-align: top;\n",
       "    }\n",
       "\n",
       "    .dataframe thead th {\n",
       "        text-align: right;\n",
       "    }\n",
       "</style>\n",
       "<table border=\"1\" class=\"dataframe\">\n",
       "  <thead>\n",
       "    <tr style=\"text-align: right;\">\n",
       "      <th></th>\n",
       "      <th>Lyrics</th>\n",
       "      <th>Comments</th>\n",
       "    </tr>\n",
       "  </thead>\n",
       "  <tbody>\n",
       "    <tr>\n",
       "      <th>0</th>\n",
       "      <td>[[[Verse 1], I've seen the world, done it all,...</td>\n",
       "      <td>[From the soundtrack for the 2013 film version...</td>\n",
       "    </tr>\n",
       "    <tr>\n",
       "      <th>1</th>\n",
       "      <td>[[[Verse 1], Look at you, kids, with your vint...</td>\n",
       "      <td>[“Love” sees Del Rey treading her familiar the...</td>\n",
       "    </tr>\n",
       "    <tr>\n",
       "      <th>2</th>\n",
       "      <td>[[[Chorus], Kiss me hard before you go, Summer...</td>\n",
       "      <td>[“Summertime Sadness” explores the atmosphere ...</td>\n",
       "    </tr>\n",
       "    <tr>\n",
       "      <th>3</th>\n",
       "      <td>[[[Verse 1: Lana Del Rey], Climb up the H of t...</td>\n",
       "      <td>[Not to be confused with the classic Iggy Pop ...</td>\n",
       "    </tr>\n",
       "    <tr>\n",
       "      <th>4</th>\n",
       "      <td>[[[Verse 1: The Weeknd], You bring good to my ...</td>\n",
       "      <td>[“Prisoner” debuted during The Weeknd’s show i...</td>\n",
       "    </tr>\n",
       "    <tr>\n",
       "      <th>5</th>\n",
       "      <td>[[[Intro], Why? (Hey, man!), Who, me? (Alright...</td>\n",
       "      <td>[“Born To Die” is described by Lana Del Rey as...</td>\n",
       "    </tr>\n",
       "    <tr>\n",
       "      <th>6</th>\n",
       "      <td>[[[Intro], High-igh-igh-igh, High-igh-igh-igh,...</td>\n",
       "      <td>[“High By The Beach” is about escaping and see...</td>\n",
       "    </tr>\n",
       "    <tr>\n",
       "      <th>7</th>\n",
       "      <td>[[[Verse 1], Swinging in the backyard, pull up...</td>\n",
       "      <td>[Released October 7, 2011 it served as the fir...</td>\n",
       "    </tr>\n",
       "    <tr>\n",
       "      <th>8</th>\n",
       "      <td>[[[Verse 1], Goddamn, man-child, You fucked me...</td>\n",
       "      <td>[The title track of Lana Del Rey’s sixth studi...</td>\n",
       "    </tr>\n",
       "    <tr>\n",
       "      <th>9</th>\n",
       "      <td>[[[Verse 1], Love (Yeah!), I said real love is...</td>\n",
       "      <td>[“Cherry” is featured on Lana’s fifth studio a...</td>\n",
       "    </tr>\n",
       "  </tbody>\n",
       "</table>\n",
       "</div>"
      ],
      "text/plain": [
       "                                              Lyrics  \\\n",
       "0  [[[Verse 1], I've seen the world, done it all,...   \n",
       "1  [[[Verse 1], Look at you, kids, with your vint...   \n",
       "2  [[[Chorus], Kiss me hard before you go, Summer...   \n",
       "3  [[[Verse 1: Lana Del Rey], Climb up the H of t...   \n",
       "4  [[[Verse 1: The Weeknd], You bring good to my ...   \n",
       "5  [[[Intro], Why? (Hey, man!), Who, me? (Alright...   \n",
       "6  [[[Intro], High-igh-igh-igh, High-igh-igh-igh,...   \n",
       "7  [[[Verse 1], Swinging in the backyard, pull up...   \n",
       "8  [[[Verse 1], Goddamn, man-child, You fucked me...   \n",
       "9  [[[Verse 1], Love (Yeah!), I said real love is...   \n",
       "\n",
       "                                            Comments  \n",
       "0  [From the soundtrack for the 2013 film version...  \n",
       "1  [“Love” sees Del Rey treading her familiar the...  \n",
       "2  [“Summertime Sadness” explores the atmosphere ...  \n",
       "3  [Not to be confused with the classic Iggy Pop ...  \n",
       "4  [“Prisoner” debuted during The Weeknd’s show i...  \n",
       "5  [“Born To Die” is described by Lana Del Rey as...  \n",
       "6  [“High By The Beach” is about escaping and see...  \n",
       "7  [Released October 7, 2011 it served as the fir...  \n",
       "8  [The title track of Lana Del Rey’s sixth studi...  \n",
       "9  [“Cherry” is featured on Lana’s fifth studio a...  "
      ]
     },
     "execution_count": 8,
     "metadata": {},
     "output_type": "execute_result"
    }
   ],
   "source": [
    "df"
   ]
  },
  {
   "cell_type": "code",
   "execution_count": null,
   "metadata": {},
   "outputs": [],
   "source": []
  }
 ],
 "metadata": {
  "kernelspec": {
   "display_name": "Python 3",
   "language": "python",
   "name": "python3"
  },
  "language_info": {
   "codemirror_mode": {
    "name": "ipython",
    "version": 3
   },
   "file_extension": ".py",
   "mimetype": "text/x-python",
   "name": "python",
   "nbconvert_exporter": "python",
   "pygments_lexer": "ipython3",
   "version": "3.7.3"
  }
 },
 "nbformat": 4,
 "nbformat_minor": 2
}

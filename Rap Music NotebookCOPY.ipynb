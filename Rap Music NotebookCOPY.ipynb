{
 "cells": [
  {
   "cell_type": "markdown",
   "metadata": {},
   "source": [
    "# Rap Music Analysis"
   ]
  },
  {
   "cell_type": "code",
   "execution_count": 1,
   "metadata": {},
   "outputs": [],
   "source": [
    "import urllib.request\n",
    "import urllib.parse\n",
    "import urllib.error\n",
    "from urllib.request import Request, urlopen\n",
    "import requests\n",
    "\n",
    "from bs4 import BeautifulSoup\n",
    "\n",
    "import pandas as pd\n",
    "import json\n",
    "\n",
    "import string"
   ]
  },
  {
   "cell_type": "code",
   "execution_count": 2,
   "metadata": {},
   "outputs": [],
   "source": [
    "# Create an empty DataFrame\n",
    "column_names = ['Title','Artist','Lyrics','Comments']\n",
    "df = pd.DataFrame(columns = column_names)"
   ]
  },
  {
   "cell_type": "code",
   "execution_count": 3,
   "metadata": {},
   "outputs": [],
   "source": [
    "def request_artist_info(artist_name, page):\n",
    "    \n",
    "    import getpass\n",
    "    base_url = 'https://api.genius.com'\n",
    "    token = getpass.getpass('Enter your Genius API token:')\n",
    "    \n",
    "    headers = {'Authorization': 'Bearer ' + token}\n",
    "    search_url = base_url + '/search?per_page=50&page=' + str(page)\n",
    "    data = {'q': artist_name}\n",
    "    response = requests.get(search_url, data=data, headers=headers)\n",
    "    \n",
    "    return response "
   ]
  },
  {
   "cell_type": "code",
   "execution_count": 4,
   "metadata": {},
   "outputs": [
    {
     "name": "stdout",
     "output_type": "stream",
     "text": [
      "Enter your Genius API token:········\n"
     ]
    }
   ],
   "source": [
    "response = request_artist_info('Drake', 1)\n",
    "json = response.json()"
   ]
  },
  {
   "cell_type": "code",
   "execution_count": 5,
   "metadata": {},
   "outputs": [],
   "source": [
    "artist = []\n",
    "song_name = []\n",
    "pageviews = []\n",
    "\n",
    "for hit in json['response']['hits']: \n",
    "    artist.append(hit['result']['primary_artist']['name'])\n",
    "    song_name.append(hit['result']['title'])\n",
    "    pageviews.append(hit['result']['stats']['pageviews'])"
   ]
  },
  {
   "cell_type": "code",
   "execution_count": 6,
   "metadata": {},
   "outputs": [],
   "source": [
    "df['Title']=song_name\n",
    "df['Artist'] = artist\n",
    "df['pageviews'] = pageviews"
   ]
  },
  {
   "cell_type": "code",
   "execution_count": 8,
   "metadata": {},
   "outputs": [],
   "source": [
    "def request_song_url(artist_name, song_cap):\n",
    "    \n",
    "    \"\"\" This function populates a list with urls to the songs by a chosen artist. \n",
    "\n",
    "    Args: \n",
    "        artist_name(str): name of the artist\n",
    "        song_cap(int): number of urls/songs you want \n",
    "        \n",
    "    Returns: \n",
    "        list of strings, each string is a url to a song by the artist\n",
    "    \n",
    "    \"\"\"\n",
    "    page = 1\n",
    "    songs = []\n",
    "    \n",
    "    while True:\n",
    "        response = request_artist_info(artist_name, page)\n",
    "        json = response.json()       \n",
    "        song_info = []\n",
    "        \n",
    "        for hit in json['response']['hits']:\n",
    "            if artist_name.lower() in hit['result']['primary_artist']['name'].lower():\n",
    "                song_info.append(hit)\n",
    "        \n",
    "        for song in song_info:\n",
    "            if (len(songs) < song_cap):\n",
    "                url = song['result']['url']\n",
    "                songs.append(url)\n",
    "            \n",
    "        if (len(songs) == song_cap):\n",
    "            break\n",
    "        else:\n",
    "            page += 1\n",
    "    \n",
    "    return songs"
   ]
  },
  {
   "cell_type": "code",
   "execution_count": 9,
   "metadata": {},
   "outputs": [
    {
     "name": "stdout",
     "output_type": "stream",
     "text": [
      "Enter your Genius API token:········\n"
     ]
    }
   ],
   "source": [
    "urls = request_song_url('drake',20)"
   ]
  },
  {
   "cell_type": "code",
   "execution_count": 10,
   "metadata": {},
   "outputs": [
    {
     "name": "stderr",
     "output_type": "stream",
     "text": [
      "/Applications/anaconda3/lib/python3.7/site-packages/pandas/core/indexing.py:189: SettingWithCopyWarning: \n",
      "A value is trying to be set on a copy of a slice from a DataFrame\n",
      "\n",
      "See the caveats in the documentation: http://pandas.pydata.org/pandas-docs/stable/indexing.html#indexing-view-versus-copy\n",
      "  self._setitem_with_indexer(indexer, value)\n"
     ]
    }
   ],
   "source": [
    "counter = 0\n",
    "\n",
    "for url in urls: \n",
    "    \n",
    "    req = Request(url, headers = {\"User-Agent\" : \"Mozilla/5.0\"})\n",
    "    webpage = urlopen(req).read()\n",
    "\n",
    "    # Create a BeautifulSoup object \n",
    "    soup = BeautifulSoup(webpage, 'html.parser')\n",
    "    html = soup.prettify('utf-8')\n",
    "    songs = {}\n",
    "    songs['lyrics'] = [];\n",
    "    songs['comments'] = [];\n",
    "\n",
    "    # Extract user comments on the song\n",
    "    for div in soup.findAll('div',attrs={'class':'rich_text_formatting'}):\n",
    "        comments = div.text.strip().split(\"\\n\")\n",
    "        \n",
    "        for comment in comments: \n",
    "            if comment != \"\":\n",
    "                songs['comments'].append(comment);\n",
    "                df['Comments'].iloc[counter] = songs['comments']\n",
    "        \n",
    "    # Extract the lyrics of the song\n",
    "    for div in soup.findAll('div', attrs = {'class':'lyrics'}):\n",
    "        songs['lyrics'].append(div.text.strip().split(\"\\n\"));\n",
    "        df['Lyrics'].iloc[counter] = songs['lyrics'][0]\n",
    "    \n",
    "    counter +=1"
   ]
  },
  {
   "cell_type": "code",
   "execution_count": 11,
   "metadata": {},
   "outputs": [],
   "source": [
    "def remove_punctuation(str1): \n",
    "    \n",
    "    for char in str1.lower():\n",
    "        \n",
    "        if char in string.punctuation: \n",
    "            \n",
    "            str1 = str1.replace(char,\"\")          \n",
    "    \n",
    "    return str1"
   ]
  },
  {
   "cell_type": "code",
   "execution_count": 17,
   "metadata": {},
   "outputs": [],
   "source": [
    "lyric_values = df['Lyrics']\n",
    "\n",
    "size = len(lyric_values)  # size holds the number of rows\n",
    "n=-1 # we want to start from cell 0, the first increment would make the -1 a 0\n",
    "\n",
    "lst_words = []\n",
    "\n",
    "while True: \n",
    "    \n",
    "    n += 1  \n",
    "    if n == size: \n",
    "        break \n",
    "    \n",
    "    wrds = [] # will hold the list of words in each cell \n",
    "\n",
    "    # inspect the next cell\n",
    "    text = lyric_values[n]\n",
    "    text_str = str(text).lower()\n",
    "    no_punct_str = remove_punctuation(text_str)\n",
    "    \n",
    "    for word in no_punct_str.split(): \n",
    "        wrds.append(word)\n",
    "        \n",
    "    lst_words.append(len(wrds))"
   ]
  },
  {
   "cell_type": "code",
   "execution_count": 13,
   "metadata": {},
   "outputs": [],
   "source": [
    "df.insert(5,'lyrics_WordCount', pd.Series(lst_words))"
   ]
  },
  {
   "cell_type": "code",
   "execution_count": 14,
   "metadata": {},
   "outputs": [
    {
     "data": {
      "text/html": [
       "<div>\n",
       "<style scoped>\n",
       "    .dataframe tbody tr th:only-of-type {\n",
       "        vertical-align: middle;\n",
       "    }\n",
       "\n",
       "    .dataframe tbody tr th {\n",
       "        vertical-align: top;\n",
       "    }\n",
       "\n",
       "    .dataframe thead th {\n",
       "        text-align: right;\n",
       "    }\n",
       "</style>\n",
       "<table border=\"1\" class=\"dataframe\">\n",
       "  <thead>\n",
       "    <tr style=\"text-align: right;\">\n",
       "      <th></th>\n",
       "      <th>Title</th>\n",
       "      <th>Artist</th>\n",
       "      <th>Lyrics</th>\n",
       "      <th>Comments</th>\n",
       "      <th>pageviews</th>\n",
       "      <th>lyrics_WordCount</th>\n",
       "    </tr>\n",
       "  </thead>\n",
       "  <tbody>\n",
       "    <tr>\n",
       "      <th>0</th>\n",
       "      <td>God’s Plan</td>\n",
       "      <td>Drake</td>\n",
       "      <td>[[Intro], And they wishin' and wishin' and wis...</td>\n",
       "      <td>[“God’s Plan” is a feel-good track that discus...</td>\n",
       "      <td>8402458</td>\n",
       "      <td>356</td>\n",
       "    </tr>\n",
       "    <tr>\n",
       "      <th>1</th>\n",
       "      <td>In My Feelings</td>\n",
       "      <td>Drake</td>\n",
       "      <td>[[Intro: Drake], Trap, TrapMoneyBenny, This sh...</td>\n",
       "      <td>[“In My Feelings” is an upbeat, club-mixed lov...</td>\n",
       "      <td>7142891</td>\n",
       "      <td>584</td>\n",
       "    </tr>\n",
       "    <tr>\n",
       "      <th>2</th>\n",
       "      <td>Hotline Bling</td>\n",
       "      <td>Drake</td>\n",
       "      <td>[[Intro], You used to call me on my, You used ...</td>\n",
       "      <td>[“Hotline Bling” is most likely about Drake’s ...</td>\n",
       "      <td>6665608</td>\n",
       "      <td>445</td>\n",
       "    </tr>\n",
       "    <tr>\n",
       "      <th>3</th>\n",
       "      <td>One Dance</td>\n",
       "      <td>Drake</td>\n",
       "      <td>[[Intro: Kyla], Baby, I like your style, , [Ve...</td>\n",
       "      <td>[“One Dance” is an R&amp;B song with dancehall and...</td>\n",
       "      <td>5809214</td>\n",
       "      <td>415</td>\n",
       "    </tr>\n",
       "    <tr>\n",
       "      <th>4</th>\n",
       "      <td>Hold On, We’re Going Home</td>\n",
       "      <td>Drake</td>\n",
       "      <td>[[Produced by Nineteen85, Majid Jordan &amp; Noah ...</td>\n",
       "      <td>[Drake’s single isn’t a rap song as we all kno...</td>\n",
       "      <td>5347908</td>\n",
       "      <td>339</td>\n",
       "    </tr>\n",
       "    <tr>\n",
       "      <th>5</th>\n",
       "      <td>Know Yourself</td>\n",
       "      <td>Drake</td>\n",
       "      <td>[[Part 1], , [Intro], Hol' it yute, hol' it, h...</td>\n",
       "      <td>[Drake first used the phrase “know yourself” i...</td>\n",
       "      <td>4963737</td>\n",
       "      <td>574</td>\n",
       "    </tr>\n",
       "    <tr>\n",
       "      <th>6</th>\n",
       "      <td>Back to Back</td>\n",
       "      <td>Drake</td>\n",
       "      <td>[[Intro], Oh man, Oh man, oh man, Not again, ,...</td>\n",
       "      <td>[“Back to Back” is the second of Drake’s respo...</td>\n",
       "      <td>4827667</td>\n",
       "      <td>533</td>\n",
       "    </tr>\n",
       "    <tr>\n",
       "      <th>7</th>\n",
       "      <td>All Me</td>\n",
       "      <td>Drake</td>\n",
       "      <td>[[Produced by Key Wane], , [Intro: Aziz Ansari...</td>\n",
       "      <td>[Drake, 2 Chainz and Big Sean team up for a hi...</td>\n",
       "      <td>3895819</td>\n",
       "      <td>1050</td>\n",
       "    </tr>\n",
       "    <tr>\n",
       "      <th>8</th>\n",
       "      <td>Fake Love</td>\n",
       "      <td>Drake</td>\n",
       "      <td>[[Chorus], I've been down so long, it look lik...</td>\n",
       "      <td>[“Fake Love” finds Drake criticizing friends a...</td>\n",
       "      <td>3664164</td>\n",
       "      <td>484</td>\n",
       "    </tr>\n",
       "    <tr>\n",
       "      <th>9</th>\n",
       "      <td>From Time</td>\n",
       "      <td>Drake</td>\n",
       "      <td>[[Intro: Jhené Aiko], What's up?, Been a minut...</td>\n",
       "      <td>[Song #7 on Nothing Was the Same is a  convers...</td>\n",
       "      <td>3610062</td>\n",
       "      <td>764</td>\n",
       "    </tr>\n",
       "    <tr>\n",
       "      <th>10</th>\n",
       "      <td>0 to 100 / The Catch Up</td>\n",
       "      <td>Drake</td>\n",
       "      <td>[[Produced by Boi-1da, Frank Dukes, Noah \"40\" ...</td>\n",
       "      <td>[This song features two parts. The first, “0 t...</td>\n",
       "      <td>3576952</td>\n",
       "      <td>981</td>\n",
       "    </tr>\n",
       "    <tr>\n",
       "      <th>11</th>\n",
       "      <td>Started from the Bottom</td>\n",
       "      <td>Drake</td>\n",
       "      <td>[[Produced by Mike Zombie], , [Intro], Started...</td>\n",
       "      <td>[On February 1, 2013 Drake dropped his long aw...</td>\n",
       "      <td>3336756</td>\n",
       "      <td>477</td>\n",
       "    </tr>\n",
       "    <tr>\n",
       "      <th>12</th>\n",
       "      <td>The Motto</td>\n",
       "      <td>Drake</td>\n",
       "      <td>[[Verse 1: Drake], I'm the fuckin' man, y'all ...</td>\n",
       "      <td>[On this bonus track from Take Care, Drake tel...</td>\n",
       "      <td>3369514</td>\n",
       "      <td>540</td>\n",
       "    </tr>\n",
       "    <tr>\n",
       "      <th>13</th>\n",
       "      <td>Pound Cake / Paris Morton Music 2</td>\n",
       "      <td>Drake</td>\n",
       "      <td>[[Part 1: Pound Cake, Produced by Boi-1da, Mat...</td>\n",
       "      <td>[One of the most anticipated songs off Nothing...</td>\n",
       "      <td>3248559</td>\n",
       "      <td>1071</td>\n",
       "    </tr>\n",
       "    <tr>\n",
       "      <th>14</th>\n",
       "      <td>Jumpman</td>\n",
       "      <td>Drake &amp; Future</td>\n",
       "      <td>[[Intro: Drake &amp; Future], If Young Metro don't...</td>\n",
       "      <td>[“Jumpman” is named after Michael Jordan’s clo...</td>\n",
       "      <td>3134090</td>\n",
       "      <td>506</td>\n",
       "    </tr>\n",
       "    <tr>\n",
       "      <th>15</th>\n",
       "      <td>HYFR</td>\n",
       "      <td>Drake</td>\n",
       "      <td>[[Intro: Drake], Gotta do what I gotta do, yea...</td>\n",
       "      <td>[Stands for Hell Ya Fucking Right.  Drizzy tal...</td>\n",
       "      <td>2908032</td>\n",
       "      <td>616</td>\n",
       "    </tr>\n",
       "    <tr>\n",
       "      <th>16</th>\n",
       "      <td>Marvin’s Room</td>\n",
       "      <td>Drake</td>\n",
       "      <td>[[Intro: Ericka Lee], Hello? Yeah, I just walk...</td>\n",
       "      <td>[The title is a reference to Marvin Gaye’s stu...</td>\n",
       "      <td>2865133</td>\n",
       "      <td>600</td>\n",
       "    </tr>\n",
       "    <tr>\n",
       "      <th>17</th>\n",
       "      <td>Nice For What</td>\n",
       "      <td>Drake</td>\n",
       "      <td>[[Intro: Big Freedia], I wanna know who mothaf...</td>\n",
       "      <td>[The New Orleans bounce music-inflected “Nice ...</td>\n",
       "      <td>2801801</td>\n",
       "      <td>776</td>\n",
       "    </tr>\n",
       "    <tr>\n",
       "      <th>18</th>\n",
       "      <td>Passionfruit</td>\n",
       "      <td>Drake</td>\n",
       "      <td>[[Intro: Moodymann], Hold on, hold on, fuck th...</td>\n",
       "      <td>[“Passionfruit” details Drake’s struggle to ma...</td>\n",
       "      <td>2747458</td>\n",
       "      <td>239</td>\n",
       "    </tr>\n",
       "    <tr>\n",
       "      <th>19</th>\n",
       "      <td>Child’s Play</td>\n",
       "      <td>Drake</td>\n",
       "      <td>[[Intro], Breaking news, my niggas, If your gi...</td>\n",
       "      <td>[On “Child’s Play,” Drake explains to a woman ...</td>\n",
       "      <td>2669178</td>\n",
       "      <td>651</td>\n",
       "    </tr>\n",
       "  </tbody>\n",
       "</table>\n",
       "</div>"
      ],
      "text/plain": [
       "                                Title          Artist  \\\n",
       "0                          God’s Plan           Drake   \n",
       "1                      In My Feelings           Drake   \n",
       "2                       Hotline Bling           Drake   \n",
       "3                           One Dance           Drake   \n",
       "4           Hold On, We’re Going Home           Drake   \n",
       "5                       Know Yourself           Drake   \n",
       "6                        Back to Back           Drake   \n",
       "7                              All Me           Drake   \n",
       "8                           Fake Love           Drake   \n",
       "9                           From Time           Drake   \n",
       "10            0 to 100 / The Catch Up           Drake   \n",
       "11            Started from the Bottom           Drake   \n",
       "12                          The Motto           Drake   \n",
       "13  Pound Cake / Paris Morton Music 2           Drake   \n",
       "14                            Jumpman  Drake & Future   \n",
       "15                               HYFR           Drake   \n",
       "16                      Marvin’s Room           Drake   \n",
       "17                      Nice For What           Drake   \n",
       "18                       Passionfruit           Drake   \n",
       "19                       Child’s Play           Drake   \n",
       "\n",
       "                                               Lyrics  \\\n",
       "0   [[Intro], And they wishin' and wishin' and wis...   \n",
       "1   [[Intro: Drake], Trap, TrapMoneyBenny, This sh...   \n",
       "2   [[Intro], You used to call me on my, You used ...   \n",
       "3   [[Intro: Kyla], Baby, I like your style, , [Ve...   \n",
       "4   [[Produced by Nineteen85, Majid Jordan & Noah ...   \n",
       "5   [[Part 1], , [Intro], Hol' it yute, hol' it, h...   \n",
       "6   [[Intro], Oh man, Oh man, oh man, Not again, ,...   \n",
       "7   [[Produced by Key Wane], , [Intro: Aziz Ansari...   \n",
       "8   [[Chorus], I've been down so long, it look lik...   \n",
       "9   [[Intro: Jhené Aiko], What's up?, Been a minut...   \n",
       "10  [[Produced by Boi-1da, Frank Dukes, Noah \"40\" ...   \n",
       "11  [[Produced by Mike Zombie], , [Intro], Started...   \n",
       "12  [[Verse 1: Drake], I'm the fuckin' man, y'all ...   \n",
       "13  [[Part 1: Pound Cake, Produced by Boi-1da, Mat...   \n",
       "14  [[Intro: Drake & Future], If Young Metro don't...   \n",
       "15  [[Intro: Drake], Gotta do what I gotta do, yea...   \n",
       "16  [[Intro: Ericka Lee], Hello? Yeah, I just walk...   \n",
       "17  [[Intro: Big Freedia], I wanna know who mothaf...   \n",
       "18  [[Intro: Moodymann], Hold on, hold on, fuck th...   \n",
       "19  [[Intro], Breaking news, my niggas, If your gi...   \n",
       "\n",
       "                                             Comments  pageviews  \\\n",
       "0   [“God’s Plan” is a feel-good track that discus...    8402458   \n",
       "1   [“In My Feelings” is an upbeat, club-mixed lov...    7142891   \n",
       "2   [“Hotline Bling” is most likely about Drake’s ...    6665608   \n",
       "3   [“One Dance” is an R&B song with dancehall and...    5809214   \n",
       "4   [Drake’s single isn’t a rap song as we all kno...    5347908   \n",
       "5   [Drake first used the phrase “know yourself” i...    4963737   \n",
       "6   [“Back to Back” is the second of Drake’s respo...    4827667   \n",
       "7   [Drake, 2 Chainz and Big Sean team up for a hi...    3895819   \n",
       "8   [“Fake Love” finds Drake criticizing friends a...    3664164   \n",
       "9   [Song #7 on Nothing Was the Same is a  convers...    3610062   \n",
       "10  [This song features two parts. The first, “0 t...    3576952   \n",
       "11  [On February 1, 2013 Drake dropped his long aw...    3336756   \n",
       "12  [On this bonus track from Take Care, Drake tel...    3369514   \n",
       "13  [One of the most anticipated songs off Nothing...    3248559   \n",
       "14  [“Jumpman” is named after Michael Jordan’s clo...    3134090   \n",
       "15  [Stands for Hell Ya Fucking Right.  Drizzy tal...    2908032   \n",
       "16  [The title is a reference to Marvin Gaye’s stu...    2865133   \n",
       "17  [The New Orleans bounce music-inflected “Nice ...    2801801   \n",
       "18  [“Passionfruit” details Drake’s struggle to ma...    2747458   \n",
       "19  [On “Child’s Play,” Drake explains to a woman ...    2669178   \n",
       "\n",
       "    lyrics_WordCount  \n",
       "0                356  \n",
       "1                584  \n",
       "2                445  \n",
       "3                415  \n",
       "4                339  \n",
       "5                574  \n",
       "6                533  \n",
       "7               1050  \n",
       "8                484  \n",
       "9                764  \n",
       "10               981  \n",
       "11               477  \n",
       "12               540  \n",
       "13              1071  \n",
       "14               506  \n",
       "15               616  \n",
       "16               600  \n",
       "17               776  \n",
       "18               239  \n",
       "19               651  "
      ]
     },
     "execution_count": 14,
     "metadata": {},
     "output_type": "execute_result"
    }
   ],
   "source": [
    "df"
   ]
  },
  {
   "cell_type": "code",
   "execution_count": 18,
   "metadata": {},
   "outputs": [
    {
     "data": {
      "image/png": "[encoded data removed]",
      "text/plain": [
       "<Figure size 432x288 with 1 Axes>"
      ]
     },
     "metadata": {
      "needs_background": "light"
     },
     "output_type": "display_data"
    }
   ],
   "source": [
    "import matplotlib.pyplot as plt\n",
    "\n",
    "plt.bar(df['Title'],df['pageviews'])\n",
    "plt.ylabel('Page Views')\n",
    "plt.title('Genius Page Views by Song')\n",
    "plt.xticks(rotation=45, ha=\"right\")\n",
    "plt.show()"
   ]
  },
  {
   "cell_type": "code",
   "execution_count": 22,
   "metadata": {},
   "outputs": [
    {
     "data": {
      "text/plain": [
       "Text(0.5, 0, 'Song Word Count')"
      ]
     },
     "execution_count": 22,
     "metadata": {},
     "output_type": "execute_result"
    },
    {
     "data": {
      "image/png": "[encoded data removed]",
      "text/plain": [
       "<Figure size 432x288 with 1 Axes>"
      ]
     },
     "metadata": {
      "needs_background": "light"
     },
     "output_type": "display_data"
    }
   ],
   "source": [
    "plt.scatter(df['lyrics_WordCount'],df['pageviews'])\n",
    "plt.ylabel('Page Views')\n",
    "plt.xlabel('Song Word Count')"
   ]
  },
  {
   "cell_type": "code",
   "execution_count": null,
   "metadata": {},
   "outputs": [],
   "source": []
  },
  {
   "cell_type": "code",
   "execution_count": null,
   "metadata": {},
   "outputs": [],
   "source": []
  },
  {
   "cell_type": "code",
   "execution_count": null,
   "metadata": {},
   "outputs": [],
   "source": []
  },
  {
   "cell_type": "code",
   "execution_count": null,
   "metadata": {},
   "outputs": [],
   "source": []
  },
  {
   "cell_type": "code",
   "execution_count": null,
   "metadata": {},
   "outputs": [],
   "source": []
  },
  {
   "cell_type": "code",
   "execution_count": null,
   "metadata": {},
   "outputs": [],
   "source": []
  }
 ],
 "metadata": {
  "kernelspec": {
   "display_name": "Python 3",
   "language": "python",
   "name": "python3"
  },
  "language_info": {
   "codemirror_mode": {
    "name": "ipython",
    "version": 3
   },
   "file_extension": ".py",
   "mimetype": "text/x-python",
   "name": "python",
   "nbconvert_exporter": "python",
   "pygments_lexer": "ipython3",
   "version": "3.7.1"
  }
 },
 "nbformat": 4,
 "nbformat_minor": 2
}
